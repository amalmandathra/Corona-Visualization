{
  "nbformat": 4,
  "nbformat_minor": 0,
  "metadata": {
    "colab": {
      "name": "corona_Plotly.ipynb",
      "provenance": [],
      "collapsed_sections": []
    },
    "kernelspec": {
      "name": "python3",
      "display_name": "Python 3"
    }
  },
  "cells": [
    {
      "cell_type": "code",
      "metadata": {
        "id": "0i_Rz5kFomq1",
        "colab_type": "code",
        "colab": {}
      },
      "source": [
        "import pandas as pd\n",
        "import plotly.express as px\n",
        "import plotly.io as pio\n"
      ],
      "execution_count": 0,
      "outputs": []
    },
    {
      "cell_type": "code",
      "metadata": {
        "id": "oRpftbumQC05",
        "colab_type": "code",
        "colab": {}
      },
      "source": [
        "!pip install PyDrive"
      ],
      "execution_count": 0,
      "outputs": []
    },
    {
      "cell_type": "code",
      "metadata": {
        "id": "FAufXKVF8lRx",
        "colab_type": "code",
        "colab": {}
      },
      "source": [
        "from pydrive.auth import GoogleAuth\n",
        "from pydrive.drive import GoogleDrive\n",
        "from google.colab import auth\n",
        "from oauth2client.client import GoogleCredentials\n",
        "\n"
      ],
      "execution_count": 0,
      "outputs": []
    },
    {
      "cell_type": "code",
      "metadata": {
        "id": "HTceIKgdQRm4",
        "colab_type": "code",
        "colab": {}
      },
      "source": [
        "auth.authenticate_user()\n",
        "gauth = GoogleAuth()\n",
        "gauth.credentials = GoogleCredentials.get_application_default()\n",
        "drive = GoogleDrive(gauth)"
      ],
      "execution_count": 0,
      "outputs": []
    },
    {
      "cell_type": "code",
      "metadata": {
        "id": "FsffUjAcQqbx",
        "colab_type": "code",
        "colab": {}
      },
      "source": [
        "downloaded = drive.CreateFile({'id':\"1FW9JcMoovgV3pEq4TJiqQ4DqSWC0JbfE\"})\n",
        "downloaded.GetContentFile('coviddata.csv') \n"
      ],
      "execution_count": 0,
      "outputs": []
    },
    {
      "cell_type": "code",
      "metadata": {
        "id": "5i-cp9grSBF0",
        "colab_type": "code",
        "colab": {}
      },
      "source": [
        "downloaded2=drive.CreateFile({'id':\"1MoTNeP2nAELsAH5hWJPVkqPSL8JfEQS0\"})\n",
        "downloaded2.GetContentFile('Countries_Continents.xlsx') "
      ],
      "execution_count": 0,
      "outputs": []
    },
    {
      "cell_type": "code",
      "metadata": {
        "id": "Us1Zoi-hMaSO",
        "colab_type": "code",
        "colab": {}
      },
      "source": [
        "data=pd.read_csv(filepath_or_buffer='coviddata.csv')\n"
      ],
      "execution_count": 0,
      "outputs": []
    },
    {
      "cell_type": "code",
      "metadata": {
        "id": "fGz5jMlSRRZM",
        "colab_type": "code",
        "colab": {}
      },
      "source": [
        "data.drop(columns='Unnamed: 0',inplace=True)"
      ],
      "execution_count": 0,
      "outputs": []
    },
    {
      "cell_type": "code",
      "metadata": {
        "id": "0YOWGbdL-hY5",
        "colab_type": "code",
        "colab": {}
      },
      "source": [
        "data.head()"
      ],
      "execution_count": 0,
      "outputs": []
    },
    {
      "cell_type": "code",
      "metadata": {
        "id": "7D88RwQQs-k0",
        "colab_type": "code",
        "colab": {}
      },
      "source": [
        "regions=pd.read_excel(io='/content/Countries_Continents.xlsx')\n",
        "#regions.head()\n"
      ],
      "execution_count": 0,
      "outputs": []
    },
    {
      "cell_type": "code",
      "metadata": {
        "id": "nCdulT_GtNi-",
        "colab_type": "code",
        "colab": {}
      },
      "source": [
        "data=data.merge(regions,how='left',left_on='Country',right_on='CountryName')\n",
        "\n",
        "\n"
      ],
      "execution_count": 0,
      "outputs": []
    },
    {
      "cell_type": "code",
      "metadata": {
        "id": "TuIDRTGUSoS6",
        "colab_type": "code",
        "colab": {}
      },
      "source": [
        "data['ContinentName'].fillna(value=0,inplace=True)#to check inconsitencies in data"
      ],
      "execution_count": 0,
      "outputs": []
    },
    {
      "cell_type": "code",
      "metadata": {
        "id": "SU4zcnmESrt0",
        "colab_type": "code",
        "colab": {}
      },
      "source": [
        "data[data['ContinentName']==0]#to check inconsitencies in data"
      ],
      "execution_count": 0,
      "outputs": []
    },
    {
      "cell_type": "code",
      "metadata": {
        "id": "hxhUqCj8tlzz",
        "colab_type": "code",
        "colab": {}
      },
      "source": [
        "data['Dates'] =pd.to_datetime(data.Date)\n",
        "\n"
      ],
      "execution_count": 0,
      "outputs": []
    },
    {
      "cell_type": "code",
      "metadata": {
        "id": "tur1lQom8Gby",
        "colab_type": "code",
        "colab": {}
      },
      "source": [
        "data.sort_values(by='Dates',inplace=True)"
      ],
      "execution_count": 0,
      "outputs": []
    },
    {
      "cell_type": "code",
      "metadata": {
        "id": "eIBI3IKR7Mlo",
        "colab_type": "code",
        "colab": {}
      },
      "source": [
        "data.set_index(keys='CountryName',inplace=True)"
      ],
      "execution_count": 0,
      "outputs": []
    },
    {
      "cell_type": "markdown",
      "metadata": {
        "id": "ZEjOxUYfYXbg",
        "colab_type": "text"
      },
      "source": [
        "TO Get the ranges of the x and y axis"
      ]
    },
    {
      "cell_type": "code",
      "metadata": {
        "id": "DyOSk7MvXGPf",
        "colab_type": "code",
        "colab": {}
      },
      "source": [
        "xmax=data['Confirmed'].max()\n",
        "ymax=data['Death'].max()"
      ],
      "execution_count": 0,
      "outputs": []
    },
    {
      "cell_type": "code",
      "metadata": {
        "id": "rkLgVhvvXsl7",
        "colab_type": "code",
        "colab": {}
      },
      "source": [
        "fig1=px.scatter(data, x=\"Confirmed\", y=\"Death\", animation_frame=\"Date\", animation_group=\"Country\",\n",
        "           size='Confirmed', color=\"Country\", hover_name=\"Country\", hover_data=['newConfirmed','newDeath','occuranceDays'],\n",
        "           facet_col=\"ContinentName\", facet_col_wrap=2,\n",
        "           range_x=[-10000,xmax+10000], range_y=[-1000,ymax+1000],\n",
        "           size_max=50,\n",
        "           height=750,width=1300,\n",
        "           )"
      ],
      "execution_count": 0,
      "outputs": []
    },
    {
      "cell_type": "code",
      "metadata": {
        "id": "8OMxnCKzUA63",
        "colab_type": "code",
        "colab": {}
      },
      "source": [
        "pio.write_html(fig1,file='index1.html',auto_open=True)\n"
      ],
      "execution_count": 0,
      "outputs": []
    },
    {
      "cell_type": "code",
      "metadata": {
        "id": "alwMrrLMVCM7",
        "colab_type": "code",
        "colab": {}
      },
      "source": [
        "fig1.show()"
      ],
      "execution_count": 0,
      "outputs": []
    },
    {
      "cell_type": "code",
      "metadata": {
        "id": "U2dxYWsnNWQX",
        "colab_type": "code",
        "colab": {}
      },
      "source": [
        "fig2=px.scatter(data, x=\"Confirmed\", y=\"Death\", animation_frame=\"Date\", animation_group=\"Country\",\n",
        "           size='Confirmed', color=\"ContinentName\", hover_name=\"Country\", hover_data=['newConfirmed','newDeath','occuranceDays'],\n",
        "           range_x=[-10000,xmax+10000], range_y=[-1000,ymax+1000],\n",
        "           size_max=50,\n",
        "           height=750,width=1300,\n",
        "           )"
      ],
      "execution_count": 0,
      "outputs": []
    },
    {
      "cell_type": "code",
      "metadata": {
        "id": "KAMOruB7Q54o",
        "colab_type": "code",
        "colab": {}
      },
      "source": [
        "pio.write_html(fig2,file='index2.html',auto_open=True)"
      ],
      "execution_count": 0,
      "outputs": []
    },
    {
      "cell_type": "code",
      "metadata": {
        "id": "_F0poQpdyhGz",
        "colab_type": "code",
        "colab": {}
      },
      "source": [
        "fig2.show()"
      ],
      "execution_count": 0,
      "outputs": []
    }
  ]
}