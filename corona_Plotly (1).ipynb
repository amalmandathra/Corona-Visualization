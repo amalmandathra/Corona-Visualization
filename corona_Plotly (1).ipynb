{
  "nbformat": 4,
  "nbformat_minor": 0,
  "metadata": {
    "colab": {
      "name": "corona_Plotly.ipynb",
      "provenance": [],
      "collapsed_sections": []
    },
    "kernelspec": {
      "name": "python3",
      "display_name": "Python 3"
    }
  },
  "cells": [
    {
      "cell_type": "code",
      "metadata": {
        "id": "0i_Rz5kFomq1",
        "colab_type": "code",
        "colab": {}
      },
      "source": [
        "import pandas as pd\n",
        "import plotly.express as px\n",
        "import plotly.io as pio\n",
        "import calendar"
      ],
      "execution_count": 0,
      "outputs": []
    },
    {
      "cell_type": "code",
      "metadata": {
        "id": "oRpftbumQC05",
        "colab_type": "code",
        "colab": {}
      },
      "source": [
        "!pip install PyDrive"
      ],
      "execution_count": 0,
      "outputs": []
    },
    {
      "cell_type": "code",
      "metadata": {
        "id": "FAufXKVF8lRx",
        "colab_type": "code",
        "colab": {}
      },
      "source": [
        "from pydrive.auth import GoogleAuth\n",
        "from pydrive.drive import GoogleDrive\n",
        "from google.colab import auth\n",
        "from oauth2client.client import GoogleCredentials"
      ],
      "execution_count": 0,
      "outputs": []
    },
    {
      "cell_type": "code",
      "metadata": {
        "id": "HTceIKgdQRm4",
        "colab_type": "code",
        "colab": {}
      },
      "source": [
        "auth.authenticate_user()\n",
        "gauth = GoogleAuth()\n",
        "gauth.credentials = GoogleCredentials.get_application_default()\n",
        "drive = GoogleDrive(gauth)"
      ],
      "execution_count": 0,
      "outputs": []
    },
    {
      "cell_type": "code",
      "metadata": {
        "id": "FsffUjAcQqbx",
        "colab_type": "code",
        "colab": {}
      },
      "source": [
        "downloaded = drive.CreateFile({'id':\"1FW9JcMoovgV3pEq4TJiqQ4DqSWC0JbfE\"})\n",
        "downloaded.GetContentFile('coviddata.csv') "
      ],
      "execution_count": 0,
      "outputs": []
    },
    {
      "cell_type": "code",
      "metadata": {
        "id": "5i-cp9grSBF0",
        "colab_type": "code",
        "colab": {}
      },
      "source": [
        "downloaded2=drive.CreateFile({'id':\"1MoTNeP2nAELsAH5hWJPVkqPSL8JfEQS0\"})\n",
        "downloaded2.GetContentFile('Countries_Continents.xlsx') "
      ],
      "execution_count": 0,
      "outputs": []
    },
    {
      "cell_type": "code",
      "metadata": {
        "id": "Us1Zoi-hMaSO",
        "colab_type": "code",
        "colab": {}
      },
      "source": [
        "data=pd.read_csv(filepath_or_buffer='coviddata.csv')"
      ],
      "execution_count": 0,
      "outputs": []
    },
    {
      "cell_type": "code",
      "metadata": {
        "id": "fGz5jMlSRRZM",
        "colab_type": "code",
        "colab": {}
      },
      "source": [
        "data.drop(columns='Unnamed: 0',inplace=True)"
      ],
      "execution_count": 0,
      "outputs": []
    },
    {
      "cell_type": "code",
      "metadata": {
        "id": "0YOWGbdL-hY5",
        "colab_type": "code",
        "colab": {}
      },
      "source": [
        "data.head()"
      ],
      "execution_count": 0,
      "outputs": []
    },
    {
      "cell_type": "code",
      "metadata": {
        "id": "7D88RwQQs-k0",
        "colab_type": "code",
        "colab": {}
      },
      "source": [
        "regions=pd.read_excel(io='/content/Countries_Continents.xlsx')"
      ],
      "execution_count": 0,
      "outputs": []
    },
    {
      "cell_type": "code",
      "metadata": {
        "id": "nCdulT_GtNi-",
        "colab_type": "code",
        "colab": {}
      },
      "source": [
        "data=data.merge(regions,how='left',left_on='Country',right_on='CountryName')"
      ],
      "execution_count": 0,
      "outputs": []
    },
    {
      "cell_type": "code",
      "metadata": {
        "id": "TuIDRTGUSoS6",
        "colab_type": "code",
        "colab": {}
      },
      "source": [
        "data['ContinentName'].fillna(value=0,inplace=True)#to check inconsitencies in data"
      ],
      "execution_count": 0,
      "outputs": []
    },
    {
      "cell_type": "code",
      "metadata": {
        "id": "SU4zcnmESrt0",
        "colab_type": "code",
        "colab": {}
      },
      "source": [
        "data[data['ContinentName']==0]#to check inconsitencies in data"
      ],
      "execution_count": 0,
      "outputs": []
    },
    {
      "cell_type": "code",
      "metadata": {
        "id": "hxhUqCj8tlzz",
        "colab_type": "code",
        "colab": {}
      },
      "source": [
        "data['Dates'] =pd.to_datetime(data.Date)"
      ],
      "execution_count": 0,
      "outputs": []
    },
    {
      "cell_type": "code",
      "metadata": {
        "id": "tur1lQom8Gby",
        "colab_type": "code",
        "colab": {}
      },
      "source": [
        "data.sort_values(by='Dates',inplace=True)"
      ],
      "execution_count": 0,
      "outputs": []
    },
    {
      "cell_type": "code",
      "metadata": {
        "id": "7dx5xDoSsyFa",
        "colab_type": "code",
        "colab": {}
      },
      "source": [
        "data['month'] = data['Dates'].dt.month\n",
        "data['month'] = data['month'].apply(lambda x: calendar.month_name[x])"
      ],
      "execution_count": 0,
      "outputs": []
    },
    {
      "cell_type": "code",
      "metadata": {
        "id": "eIBI3IKR7Mlo",
        "colab_type": "code",
        "colab": {}
      },
      "source": [
        "data.set_index(keys='CountryName',inplace=True)"
      ],
      "execution_count": 0,
      "outputs": []
    },
    {
      "cell_type": "markdown",
      "metadata": {
        "id": "ZEjOxUYfYXbg",
        "colab_type": "text"
      },
      "source": [
        "TO Get the ranges of the x and y axis"
      ]
    },
    {
      "cell_type": "code",
      "metadata": {
        "id": "DyOSk7MvXGPf",
        "colab_type": "code",
        "colab": {}
      },
      "source": [
        "xmax=data['Confirmed'].max()\n",
        "ymax=data['Death'].max()"
      ],
      "execution_count": 0,
      "outputs": []
    },
    {
      "cell_type": "code",
      "metadata": {
        "id": "rkLgVhvvXsl7",
        "colab_type": "code",
        "colab": {}
      },
      "source": [
        "fig1=px.scatter(data, x=\"Confirmed\", y=\"Death\", animation_frame=\"Date\", animation_group=\"Country\",\n",
        "           size='Confirmed', color=\"Country\", hover_name=\"Country\", hover_data=['newConfirmed','newDeath','occuranceDays'],\n",
        "           facet_col=\"ContinentName\", facet_col_wrap=2,\n",
        "           range_x=[-10000,xmax+10000], range_y=[-1000,ymax+1000],\n",
        "           size_max=50,\n",
        "           height=750,width=1300,\n",
        "           )"
      ],
      "execution_count": 0,
      "outputs": []
    },
    {
      "cell_type": "code",
      "metadata": {
        "id": "8OMxnCKzUA63",
        "colab_type": "code",
        "colab": {}
      },
      "source": [
        "fig1.show()"
      ],
      "execution_count": 0,
      "outputs": []
    },
    {
      "cell_type": "code",
      "metadata": {
        "id": "alwMrrLMVCM7",
        "colab_type": "code",
        "colab": {}
      },
      "source": [
        "pio.write_html(fig1,file='index1.html',auto_open=True)"
      ],
      "execution_count": 0,
      "outputs": []
    },
    {
      "cell_type": "code",
      "metadata": {
        "id": "U2dxYWsnNWQX",
        "colab_type": "code",
        "colab": {}
      },
      "source": [
        "fig2=px.scatter(data, x=\"Confirmed\", y=\"Death\", animation_frame=\"Date\", animation_group=\"Country\",\n",
        "           size='Confirmed', color=\"ContinentName\", hover_name=\"Country\", hover_data=['newConfirmed','newDeath','occuranceDays'],\n",
        "           range_x=[-10000,xmax+10000], range_y=[-1000,ymax+1000],\n",
        "           size_max=50,\n",
        "           height=750,width=1300,\n",
        "           color_discrete_map={'Asia': 'brown','Africa': 'orange', 'Europe': 'violet', 'North America': 'red', 'South America': 'green', 'Oceana':'blue'}\n",
        "           )"
      ],
      "execution_count": 0,
      "outputs": []
    },
    {
      "cell_type": "code",
      "metadata": {
        "id": "_F0poQpdyhGz",
        "colab_type": "code",
        "colab": {}
      },
      "source": [
        "fig2.for_each_trace(lambda t: t.update(name=t.name.replace(\"ContinentName=\", \"\")))\n",
        "fig2.show()\n"
      ],
      "execution_count": 0,
      "outputs": []
    },
    {
      "cell_type": "code",
      "metadata": {
        "id": "MJxRWisYouDU",
        "colab_type": "code",
        "colab": {}
      },
      "source": [
        "pio.write_html(fig2,file='index2.html',auto_open=True)"
      ],
      "execution_count": 0,
      "outputs": []
    },
    {
      "cell_type": "code",
      "metadata": {
        "id": "6nacoh9GzUUB",
        "colab_type": "code",
        "colab": {}
      },
      "source": [
        "fig3 = px.scatter_geo(data, locations=\"Country\",locationmode ='country names',\n",
        "                      color=\"ContinentName\", size_max = 70,\n",
        "                         size=\"Confirmed\",\n",
        "                      animation_frame=\"Date\", animation_group=\"Country\",\n",
        "                      color_discrete_map={'Asia': 'brown','Africa': 'orange', 'Europe': 'violet', 'North America': 'red', 'South America': 'green', 'Oceana':'blue'},\n",
        "                      height=750,width=1300,\n",
        "                      hover_data=['Death','newConfirmed','newDeath','occuranceDays'],\n",
        "                      projection=\"orthographic\")\n"
      ],
      "execution_count": 0,
      "outputs": []
    },
    {
      "cell_type": "code",
      "metadata": {
        "id": "4pWAtpBw1hxI",
        "colab_type": "code",
        "colab": {}
      },
      "source": [
        "fig3.for_each_trace(lambda t: t.update(name=t.name.replace(\"ContinentName=\", \"\")))\n",
        "fig3.show()"
      ],
      "execution_count": 0,
      "outputs": []
    },
    {
      "cell_type": "code",
      "metadata": {
        "id": "RzmfYrOy5mqH",
        "colab_type": "code",
        "colab": {}
      },
      "source": [
        "pio.write_html(fig3,file='index3.html',auto_open=True)"
      ],
      "execution_count": 0,
      "outputs": []
    },
    {
      "cell_type": "code",
      "metadata": {
        "id": "pvts9ywD7BOG",
        "colab_type": "code",
        "colab": {}
      },
      "source": [
        "fig4 = px.scatter_geo(data, locations=\"Country\",locationmode ='country names',\n",
        "                      color=\"ContinentName\", size_max = 70,\n",
        "                        hover_data=['Death','newConfirmed','newDeath','occuranceDays'], size=\"Confirmed\",\n",
        "                      animation_frame=\"Date\", animation_group=\"Country\",\n",
        "                      color_discrete_map={'Asia': 'brown','Africa': 'orange', 'Europe': 'violet', 'North America': 'red', 'South America': 'green', 'Oceana':'blue'},\n",
        "                      height=750,width=1300,\n",
        "                      projection=\"natural earth\")"
      ],
      "execution_count": 0,
      "outputs": []
    },
    {
      "cell_type": "code",
      "metadata": {
        "id": "CE5hLOe_7k0F",
        "colab_type": "code",
        "colab": {}
      },
      "source": [
        "fig4.for_each_trace(lambda t: t.update(name=t.name.replace(\"ContinentName=\", \"\")))"
      ],
      "execution_count": 0,
      "outputs": []
    },
    {
      "cell_type": "code",
      "metadata": {
        "id": "0dXmM64N7RBc",
        "colab_type": "code",
        "colab": {}
      },
      "source": [
        "pio.write_html(fig4,file='index4.html',auto_open=True)"
      ],
      "execution_count": 0,
      "outputs": []
    }
  ]
}